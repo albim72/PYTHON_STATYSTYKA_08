{
 "cells":[
  {
   "cell_type":"code",
   "source":[
    "import numpy as np\n",
    "from scipy.stats import ttest_ind"
   ],
   "execution_count":2,
   "outputs":[],
   "metadata":{
    "datalore":{
     "node_id":"sxAsRd6ByN7ho9mD4c98eI",
     "type":"CODE",
     "hide_input_from_viewers":true,
     "hide_output_from_viewers":true
    }
   }
  },
  {
   "cell_type":"code",
   "source":[
    "grupa_bez_kawy = np.array([0.47,0.5,0.52,0.48,0.51,0.49,0.53,0.54])\n",
    "grupa_z_kawa = np.array([0.41,0.4,0.42,0.38,0.44,0.39,0.43,0.41])"
   ],
   "execution_count":3,
   "outputs":[],
   "metadata":{
    "datalore":{
     "node_id":"7QXM6KRD17vTAka4XYQ1eS",
     "type":"CODE",
     "hide_input_from_viewers":true,
     "hide_output_from_viewers":true
    }
   }
  },
  {
   "cell_type":"code",
   "source":[
    "#test t-studenta\n",
    "t_stat,p_value = ttest_ind(grupa_bez_kawy,grupa_z_kawa)\n",
    "print(f\"statystyka t: {round(t_stat,3)}\")\n",
    "print(f\"p-value: {round(p_value,4)}\")"
   ],
   "execution_count":4,
   "outputs":[
    {
     "name":"stdout",
     "text":[
      "statystyka t: 8.497\n",
      "p-value: 0.0\n"
     ],
     "output_type":"stream"
    }
   ],
   "metadata":{
    "datalore":{
     "node_id":"bn2c0M8UIDfHR31uByOqIz",
     "type":"CODE",
     "hide_input_from_viewers":true,
     "hide_output_from_viewers":true
    }
   }
  },
  {
   "cell_type":"code",
   "source":[
    "if p_value <0.05:\n",
    "    print(\"różnica jest statystycznie istotna  kawa skraca czas reakcji!\")\n",
    "else:\n",
    "    print(\"brak istotnej różnicy!\")"
   ],
   "execution_count":5,
   "outputs":[
    {
     "name":"stdout",
     "text":[
      "różnica jest statystycznie istotna  kawa skraca czas reakcji!\n"
     ],
     "output_type":"stream"
    }
   ],
   "metadata":{
    "datalore":{
     "node_id":"X64YfReBYL4cUb1EntRsVs",
     "type":"CODE",
     "hide_input_from_viewers":true,
     "hide_output_from_viewers":true
    }
   }
  }
 ],
 "metadata":{
  "kernelspec":{
   "display_name":"Python",
   "language":"python",
   "name":"python"
  },
  "datalore":{
   "computation_mode":"JUPYTER",
   "package_manager":"pip",
   "base_environment":"default_3_11",
   "packages":[],
   "report_row_ids":[],
   "report_tabs":[],
   "version":4
  }
 },
 "nbformat":4,
 "nbformat_minor":4
}